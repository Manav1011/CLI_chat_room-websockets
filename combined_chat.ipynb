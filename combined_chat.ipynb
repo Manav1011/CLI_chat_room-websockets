{
 "cells": [
  {
   "cell_type": "code",
   "execution_count": 1,
   "metadata": {},
   "outputs": [],
   "source": [
    "import tornado.websocket\n",
    "import tornado.web\n",
    "import tornado.ioloop\n",
    "import asyncio\n",
    "import websockets\n",
    "import aioconsole\n",
    "import os\n",
    "import sys\n",
    "\n",
    "def erase_line():\n",
    "    # Move the cursor up one line\n",
    "    sys.stdout.write('\\033[F')\n",
    "    # Erase the entire line\n",
    "    sys.stdout.write('\\033[K')\n",
    "    sys.stdout.flush()"
   ]
  },
  {
   "attachments": {},
   "cell_type": "markdown",
   "metadata": {},
   "source": [
    "#### Tornado websocket server"
   ]
  },
  {
   "cell_type": "code",
   "execution_count": 2,
   "metadata": {},
   "outputs": [
    {
     "ename": "RuntimeError",
     "evalue": "This event loop is already running",
     "output_type": "error",
     "traceback": [
      "\u001b[0;31m---------------------------------------------------------------------------\u001b[0m",
      "\u001b[0;31mRuntimeError\u001b[0m                              Traceback (most recent call last)",
      "Cell \u001b[0;32mIn[2], line 25\u001b[0m\n\u001b[1;32m     20\u001b[0m app \u001b[39m=\u001b[39m tornado\u001b[39m.\u001b[39mweb\u001b[39m.\u001b[39mApplication([\n\u001b[1;32m     21\u001b[0m     (\u001b[39mr\u001b[39m\u001b[39m\"\u001b[39m\u001b[39m/websocket\u001b[39m\u001b[39m\"\u001b[39m, MyWebSocketHandler),\n\u001b[1;32m     22\u001b[0m ])\n\u001b[1;32m     24\u001b[0m app\u001b[39m.\u001b[39mlisten(\u001b[39m8888\u001b[39m)\n\u001b[0;32m---> 25\u001b[0m tornado\u001b[39m.\u001b[39;49mioloop\u001b[39m.\u001b[39;49mIOLoop\u001b[39m.\u001b[39;49mcurrent()\u001b[39m.\u001b[39;49mstart()\n",
      "File \u001b[0;32m~/Documents/codes/tornado/tornadovenv/lib/python3.10/site-packages/tornado/platform/asyncio.py:195\u001b[0m, in \u001b[0;36mBaseAsyncIOLoop.start\u001b[0;34m(self)\u001b[0m\n\u001b[1;32m    194\u001b[0m \u001b[39mdef\u001b[39;00m \u001b[39mstart\u001b[39m(\u001b[39mself\u001b[39m) \u001b[39m-\u001b[39m\u001b[39m>\u001b[39m \u001b[39mNone\u001b[39;00m:\n\u001b[0;32m--> 195\u001b[0m     \u001b[39mself\u001b[39;49m\u001b[39m.\u001b[39;49masyncio_loop\u001b[39m.\u001b[39;49mrun_forever()\n",
      "File \u001b[0;32m/usr/lib/python3.10/asyncio/base_events.py:590\u001b[0m, in \u001b[0;36mBaseEventLoop.run_forever\u001b[0;34m(self)\u001b[0m\n\u001b[1;32m    588\u001b[0m \u001b[39m\u001b[39m\u001b[39m\"\"\"Run until stop() is called.\"\"\"\u001b[39;00m\n\u001b[1;32m    589\u001b[0m \u001b[39mself\u001b[39m\u001b[39m.\u001b[39m_check_closed()\n\u001b[0;32m--> 590\u001b[0m \u001b[39mself\u001b[39;49m\u001b[39m.\u001b[39;49m_check_running()\n\u001b[1;32m    591\u001b[0m \u001b[39mself\u001b[39m\u001b[39m.\u001b[39m_set_coroutine_origin_tracking(\u001b[39mself\u001b[39m\u001b[39m.\u001b[39m_debug)\n\u001b[1;32m    592\u001b[0m \u001b[39mself\u001b[39m\u001b[39m.\u001b[39m_thread_id \u001b[39m=\u001b[39m threading\u001b[39m.\u001b[39mget_ident()\n",
      "File \u001b[0;32m/usr/lib/python3.10/asyncio/base_events.py:582\u001b[0m, in \u001b[0;36mBaseEventLoop._check_running\u001b[0;34m(self)\u001b[0m\n\u001b[1;32m    580\u001b[0m \u001b[39mdef\u001b[39;00m \u001b[39m_check_running\u001b[39m(\u001b[39mself\u001b[39m):\n\u001b[1;32m    581\u001b[0m     \u001b[39mif\u001b[39;00m \u001b[39mself\u001b[39m\u001b[39m.\u001b[39mis_running():\n\u001b[0;32m--> 582\u001b[0m         \u001b[39mraise\u001b[39;00m \u001b[39mRuntimeError\u001b[39;00m(\u001b[39m'\u001b[39m\u001b[39mThis event loop is already running\u001b[39m\u001b[39m'\u001b[39m)\n\u001b[1;32m    583\u001b[0m     \u001b[39mif\u001b[39;00m events\u001b[39m.\u001b[39m_get_running_loop() \u001b[39mis\u001b[39;00m \u001b[39mnot\u001b[39;00m \u001b[39mNone\u001b[39;00m:\n\u001b[1;32m    584\u001b[0m         \u001b[39mraise\u001b[39;00m \u001b[39mRuntimeError\u001b[39;00m(\n\u001b[1;32m    585\u001b[0m             \u001b[39m'\u001b[39m\u001b[39mCannot run the event loop while another loop is running\u001b[39m\u001b[39m'\u001b[39m)\n",
      "\u001b[0;31mRuntimeError\u001b[0m: This event loop is already running"
     ]
    }
   ],
   "source": [
    "clients = set()\n",
    "\n",
    "class MyWebSocketHandler(tornado.websocket.WebSocketHandler):\n",
    "    def open(self):\n",
    "        print(\"WebSocket connection opened\")\n",
    "        clients.add(self)\n",
    "        print(clients)\n",
    "\n",
    "\n",
    "    def on_message(self, message):        \n",
    "        for client in clients:    \n",
    "            if self != client:        \n",
    "                client.write_message(message)\n",
    "\n",
    "    def on_close(self):\n",
    "        print(\"WebSocket connection closed\")\n",
    "\n",
    "\n",
    "\n",
    "app = tornado.web.Application([\n",
    "    (r\"/websocket\", MyWebSocketHandler),\n",
    "])\n",
    "\n",
    "app.listen(8888)\n",
    "tornado.ioloop.IOLoop.current().start()"
   ]
  },
  {
   "attachments": {},
   "cell_type": "markdown",
   "metadata": {},
   "source": [
    "#### WS CLIENT 1"
   ]
  },
  {
   "cell_type": "code",
   "execution_count": 3,
   "metadata": {},
   "outputs": [
    {
     "ename": "RuntimeError",
     "evalue": "This event loop is already running",
     "output_type": "error",
     "traceback": [
      "\u001b[0;31m---------------------------------------------------------------------------\u001b[0m",
      "\u001b[0;31mRuntimeError\u001b[0m                              Traceback (most recent call last)",
      "Cell \u001b[0;32mIn[3], line 35\u001b[0m\n\u001b[1;32m     31\u001b[0m         send_task \u001b[39m=\u001b[39m asyncio\u001b[39m.\u001b[39mensure_future(send_messages(websocket))\n\u001b[1;32m     33\u001b[0m         \u001b[39mawait\u001b[39;00m asyncio\u001b[39m.\u001b[39mgather(receive_task, send_task)\n\u001b[0;32m---> 35\u001b[0m asyncio\u001b[39m.\u001b[39;49mget_event_loop()\u001b[39m.\u001b[39;49mrun_until_complete(connect_to_websocket())\n",
      "File \u001b[0;32m/usr/lib/python3.10/asyncio/base_events.py:622\u001b[0m, in \u001b[0;36mBaseEventLoop.run_until_complete\u001b[0;34m(self, future)\u001b[0m\n\u001b[1;32m    611\u001b[0m \u001b[39m\u001b[39m\u001b[39m\"\"\"Run until the Future is done.\u001b[39;00m\n\u001b[1;32m    612\u001b[0m \n\u001b[1;32m    613\u001b[0m \u001b[39mIf the argument is a coroutine, it is wrapped in a Task.\u001b[39;00m\n\u001b[0;32m   (...)\u001b[0m\n\u001b[1;32m    619\u001b[0m \u001b[39mReturn the Future's result, or raise its exception.\u001b[39;00m\n\u001b[1;32m    620\u001b[0m \u001b[39m\"\"\"\u001b[39;00m\n\u001b[1;32m    621\u001b[0m \u001b[39mself\u001b[39m\u001b[39m.\u001b[39m_check_closed()\n\u001b[0;32m--> 622\u001b[0m \u001b[39mself\u001b[39;49m\u001b[39m.\u001b[39;49m_check_running()\n\u001b[1;32m    624\u001b[0m new_task \u001b[39m=\u001b[39m \u001b[39mnot\u001b[39;00m futures\u001b[39m.\u001b[39misfuture(future)\n\u001b[1;32m    625\u001b[0m future \u001b[39m=\u001b[39m tasks\u001b[39m.\u001b[39mensure_future(future, loop\u001b[39m=\u001b[39m\u001b[39mself\u001b[39m)\n",
      "File \u001b[0;32m/usr/lib/python3.10/asyncio/base_events.py:582\u001b[0m, in \u001b[0;36mBaseEventLoop._check_running\u001b[0;34m(self)\u001b[0m\n\u001b[1;32m    580\u001b[0m \u001b[39mdef\u001b[39;00m \u001b[39m_check_running\u001b[39m(\u001b[39mself\u001b[39m):\n\u001b[1;32m    581\u001b[0m     \u001b[39mif\u001b[39;00m \u001b[39mself\u001b[39m\u001b[39m.\u001b[39mis_running():\n\u001b[0;32m--> 582\u001b[0m         \u001b[39mraise\u001b[39;00m \u001b[39mRuntimeError\u001b[39;00m(\u001b[39m'\u001b[39m\u001b[39mThis event loop is already running\u001b[39m\u001b[39m'\u001b[39m)\n\u001b[1;32m    583\u001b[0m     \u001b[39mif\u001b[39;00m events\u001b[39m.\u001b[39m_get_running_loop() \u001b[39mis\u001b[39;00m \u001b[39mnot\u001b[39;00m \u001b[39mNone\u001b[39;00m:\n\u001b[1;32m    584\u001b[0m         \u001b[39mraise\u001b[39;00m \u001b[39mRuntimeError\u001b[39;00m(\n\u001b[1;32m    585\u001b[0m             \u001b[39m'\u001b[39m\u001b[39mCannot run the event loop while another loop is running\u001b[39m\u001b[39m'\u001b[39m)\n",
      "\u001b[0;31mRuntimeError\u001b[0m: This event loop is already running"
     ]
    }
   ],
   "source": [
    "async def receive_messages(websocket):\n",
    "    try:\n",
    "        while True:\n",
    "            message = await websocket.recv()                            \n",
    "            print(\"{:<20}\".format(message))            \n",
    "            # Add your logic to handle the incoming message here\n",
    "    except websockets.ConnectionClosed:\n",
    "        print(\"WebSocket connection closed\")\n",
    "\n",
    "async def send_messages(websocket):\n",
    "    try:\n",
    "        while True:            \n",
    "            message = await aioconsole.ainput(\"\")\n",
    "            erase_line()\n",
    "            if message == 'exit':\n",
    "                break\n",
    "\n",
    "            await websocket.send(message)\n",
    "            # right align\n",
    "            terminal_width = os.get_terminal_size().columns\n",
    "            print(f\"{message:>{terminal_width}}\")\n",
    "\n",
    "    except websockets.ConnectionClosed:\n",
    "        print(\"WebSocket connection closed\")\n",
    "\n",
    "async def connect_to_websocket():\n",
    "    async with websockets.connect('ws://localhost:8888/websocket') as websocket:\n",
    "        print(\"WebSocket connection established\")\n",
    "\n",
    "        receive_task = asyncio.ensure_future(receive_messages(websocket))\n",
    "        send_task = asyncio.ensure_future(send_messages(websocket))\n",
    "\n",
    "        await asyncio.gather(receive_task, send_task)\n",
    "\n",
    "asyncio.get_event_loop().run_until_complete(connect_to_websocket())"
   ]
  },
  {
   "attachments": {},
   "cell_type": "markdown",
   "metadata": {},
   "source": [
    "#### WS CLIENT 2"
   ]
  },
  {
   "cell_type": "code",
   "execution_count": 4,
   "metadata": {},
   "outputs": [
    {
     "ename": "RuntimeError",
     "evalue": "This event loop is already running",
     "output_type": "error",
     "traceback": [
      "\u001b[0;31m---------------------------------------------------------------------------\u001b[0m",
      "\u001b[0;31mRuntimeError\u001b[0m                              Traceback (most recent call last)",
      "Cell \u001b[0;32mIn[4], line 35\u001b[0m\n\u001b[1;32m     31\u001b[0m         send_task \u001b[39m=\u001b[39m asyncio\u001b[39m.\u001b[39mensure_future(send_messages(websocket))\n\u001b[1;32m     33\u001b[0m         \u001b[39mawait\u001b[39;00m asyncio\u001b[39m.\u001b[39mgather(receive_task, send_task)\n\u001b[0;32m---> 35\u001b[0m asyncio\u001b[39m.\u001b[39;49mget_event_loop()\u001b[39m.\u001b[39;49mrun_until_complete(connect_to_websocket())\n",
      "File \u001b[0;32m/usr/lib/python3.10/asyncio/base_events.py:622\u001b[0m, in \u001b[0;36mBaseEventLoop.run_until_complete\u001b[0;34m(self, future)\u001b[0m\n\u001b[1;32m    611\u001b[0m \u001b[39m\u001b[39m\u001b[39m\"\"\"Run until the Future is done.\u001b[39;00m\n\u001b[1;32m    612\u001b[0m \n\u001b[1;32m    613\u001b[0m \u001b[39mIf the argument is a coroutine, it is wrapped in a Task.\u001b[39;00m\n\u001b[0;32m   (...)\u001b[0m\n\u001b[1;32m    619\u001b[0m \u001b[39mReturn the Future's result, or raise its exception.\u001b[39;00m\n\u001b[1;32m    620\u001b[0m \u001b[39m\"\"\"\u001b[39;00m\n\u001b[1;32m    621\u001b[0m \u001b[39mself\u001b[39m\u001b[39m.\u001b[39m_check_closed()\n\u001b[0;32m--> 622\u001b[0m \u001b[39mself\u001b[39;49m\u001b[39m.\u001b[39;49m_check_running()\n\u001b[1;32m    624\u001b[0m new_task \u001b[39m=\u001b[39m \u001b[39mnot\u001b[39;00m futures\u001b[39m.\u001b[39misfuture(future)\n\u001b[1;32m    625\u001b[0m future \u001b[39m=\u001b[39m tasks\u001b[39m.\u001b[39mensure_future(future, loop\u001b[39m=\u001b[39m\u001b[39mself\u001b[39m)\n",
      "File \u001b[0;32m/usr/lib/python3.10/asyncio/base_events.py:582\u001b[0m, in \u001b[0;36mBaseEventLoop._check_running\u001b[0;34m(self)\u001b[0m\n\u001b[1;32m    580\u001b[0m \u001b[39mdef\u001b[39;00m \u001b[39m_check_running\u001b[39m(\u001b[39mself\u001b[39m):\n\u001b[1;32m    581\u001b[0m     \u001b[39mif\u001b[39;00m \u001b[39mself\u001b[39m\u001b[39m.\u001b[39mis_running():\n\u001b[0;32m--> 582\u001b[0m         \u001b[39mraise\u001b[39;00m \u001b[39mRuntimeError\u001b[39;00m(\u001b[39m'\u001b[39m\u001b[39mThis event loop is already running\u001b[39m\u001b[39m'\u001b[39m)\n\u001b[1;32m    583\u001b[0m     \u001b[39mif\u001b[39;00m events\u001b[39m.\u001b[39m_get_running_loop() \u001b[39mis\u001b[39;00m \u001b[39mnot\u001b[39;00m \u001b[39mNone\u001b[39;00m:\n\u001b[1;32m    584\u001b[0m         \u001b[39mraise\u001b[39;00m \u001b[39mRuntimeError\u001b[39;00m(\n\u001b[1;32m    585\u001b[0m             \u001b[39m'\u001b[39m\u001b[39mCannot run the event loop while another loop is running\u001b[39m\u001b[39m'\u001b[39m)\n",
      "\u001b[0;31mRuntimeError\u001b[0m: This event loop is already running"
     ]
    }
   ],
   "source": [
    "async def receive_messages(websocket):\n",
    "    try:\n",
    "        while True:\n",
    "            message = await websocket.recv()                            \n",
    "            print(\"{:<20}\".format(message))            \n",
    "            # Add your logic to handle the incoming message here\n",
    "    except websockets.ConnectionClosed:\n",
    "        print(\"WebSocket connection closed\")\n",
    "\n",
    "async def send_messages(websocket):\n",
    "    try:\n",
    "        while True:            \n",
    "            message = await aioconsole.ainput(\"\")\n",
    "            erase_line()\n",
    "            if message == 'exit':\n",
    "                break\n",
    "\n",
    "            await websocket.send(message)\n",
    "            # right align\n",
    "            terminal_width = os.get_terminal_size().columns\n",
    "            print(f\"{message:>{terminal_width}}\")\n",
    "\n",
    "    except websockets.ConnectionClosed:\n",
    "        print(\"WebSocket connection closed\")\n",
    "\n",
    "async def connect_to_websocket():\n",
    "    async with websockets.connect('ws://localhost:8888/websocket') as websocket:\n",
    "        print(\"WebSocket connection established\")\n",
    "\n",
    "        receive_task = asyncio.ensure_future(receive_messages(websocket))\n",
    "        send_task = asyncio.ensure_future(send_messages(websocket))\n",
    "\n",
    "        await asyncio.gather(receive_task, send_task)\n",
    "\n",
    "asyncio.get_event_loop().run_until_complete(connect_to_websocket())"
   ]
  }
 ],
 "metadata": {
  "kernelspec": {
   "display_name": "tornadovenv",
   "language": "python",
   "name": "python3"
  },
  "language_info": {
   "codemirror_mode": {
    "name": "ipython",
    "version": 3
   },
   "file_extension": ".py",
   "mimetype": "text/x-python",
   "name": "python",
   "nbconvert_exporter": "python",
   "pygments_lexer": "ipython3",
   "version": "3.10.6"
  },
  "orig_nbformat": 4
 },
 "nbformat": 4,
 "nbformat_minor": 2
}
